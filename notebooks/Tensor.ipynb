{
 "cells": [
  {
   "cell_type": "code",
   "execution_count": 1,
   "id": "a46492ec",
   "metadata": {},
   "outputs": [],
   "source": [
    "import numpy as np"
   ]
  },
  {
   "cell_type": "code",
   "execution_count": 60,
   "id": "32d49170",
   "metadata": {},
   "outputs": [],
   "source": [
    "class Tensor:\n",
    "  def __init__(self, data):\n",
    "    self.data = np.array(data)\n",
    "    \n",
    "  def __repr__(self):\n",
    "    return f\"Tensor({self.data})\""
   ]
  },
  {
   "cell_type": "code",
   "execution_count": 61,
   "id": "70f7b5a2",
   "metadata": {},
   "outputs": [],
   "source": [
    "tensor = Tensor([[1, 2, 3], [4, 5, 6]])"
   ]
  },
  {
   "cell_type": "code",
   "execution_count": 62,
   "id": "d25b7bf3",
   "metadata": {},
   "outputs": [
    {
     "data": {
      "text/plain": [
       "Tensor([[1 2 3]\n",
       " [4 5 6]])"
      ]
     },
     "execution_count": 62,
     "metadata": {},
     "output_type": "execute_result"
    }
   ],
   "source": [
    "tensor"
   ]
  },
  {
   "cell_type": "code",
   "execution_count": 63,
   "id": "8132d6da",
   "metadata": {},
   "outputs": [],
   "source": [
    "# do we use numpy and just wrap it in a tensor class\n",
    "# or\n",
    "# do we create everything from the scratch?\n",
    "\n",
    "# give a break here and start by trainging MNSIT "
   ]
  }
 ],
 "metadata": {
  "kernelspec": {
   "display_name": "Python 3 (ipykernel)",
   "language": "python",
   "name": "python3"
  },
  "language_info": {
   "codemirror_mode": {
    "name": "ipython",
    "version": 3
   },
   "file_extension": ".py",
   "mimetype": "text/x-python",
   "name": "python",
   "nbconvert_exporter": "python",
   "pygments_lexer": "ipython3",
   "version": "3.11.5"
  }
 },
 "nbformat": 4,
 "nbformat_minor": 5
}
