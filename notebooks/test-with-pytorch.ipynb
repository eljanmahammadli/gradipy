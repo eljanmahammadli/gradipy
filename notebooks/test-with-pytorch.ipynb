{
 "cells": [
  {
   "cell_type": "code",
   "execution_count": 2,
   "id": "f5bb82d0",
   "metadata": {},
   "outputs": [],
   "source": [
    "import sys\n",
    "import numpy as np\n",
    "import torch\n",
    "import torch.nn.functional as F\n",
    "path = '/Users/elcan/Documents/code/gradipy'\n",
    "sys.path.append(path)\n",
    "from gradipy.tensor import Tensor"
   ]
  },
  {
   "cell_type": "code",
   "execution_count": 3,
   "id": "247956c8",
   "metadata": {},
   "outputs": [],
   "source": [
    "def cmp(item1, item2, tol=1e-6):\n",
    "  return np.allclose(item1, item2, rtol=tol, atol=tol)"
   ]
  },
  {
   "cell_type": "code",
   "execution_count": 4,
   "id": "bfdbd360",
   "metadata": {},
   "outputs": [],
   "source": [
    "def cmp(item1, item2, tol=1e-6):\n",
    "  return np.allclose(item1, item2, rtol=tol, atol=tol)\n",
    "\n",
    "# create a test\n",
    "x = [[0.5, 0.5], [7, 4], [9, 3]]\n",
    "y = torch.tensor([0, 1, 0])\n",
    "\n",
    "# pytorch\n",
    "logits = torch.tensor(x, requires_grad=True)\n",
    "probs = F.softmax(logits, dim=1)\n",
    "loss = F.cross_entropy(logits, y)\n",
    "loss.backward()\n",
    "ppt, gpt = probs.data.numpy(), logits.grad.numpy()\n",
    "\n",
    "# gradipy\n",
    "logits = Tensor(x, requires_grad=True)\n",
    "probs = logits.softmax(y); probs.requires_grad = True\n",
    "probs._backward()\n",
    "\n",
    "# test\n",
    "tol = 1e-6\n",
    "p, g = probs.data, logits.grad\n",
    "assert cmp(p, ppt, tol) & cmp(g, gpt, tol)"
   ]
  }
 ],
 "metadata": {
  "kernelspec": {
   "display_name": "Python 3 (ipykernel)",
   "language": "python",
   "name": "python3"
  },
  "language_info": {
   "codemirror_mode": {
    "name": "ipython",
    "version": 3
   },
   "file_extension": ".py",
   "mimetype": "text/x-python",
   "name": "python",
   "nbconvert_exporter": "python",
   "pygments_lexer": "ipython3",
   "version": "3.11.5"
  },
  "toc": {
   "base_numbering": 1,
   "nav_menu": {},
   "number_sections": true,
   "sideBar": true,
   "skip_h1_title": false,
   "title_cell": "Table of Contents",
   "title_sidebar": "Contents",
   "toc_cell": false,
   "toc_position": {},
   "toc_section_display": true,
   "toc_window_display": false
  }
 },
 "nbformat": 4,
 "nbformat_minor": 5
}
